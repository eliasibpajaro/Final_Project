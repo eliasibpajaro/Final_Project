{
 "cells": [
  {
   "cell_type": "markdown",
   "id": "c470f110",
   "metadata": {},
   "source": [
    "# Aplicaciones de modelos clasicos."
   ]
  },
  {
   "cell_type": "markdown",
   "id": "e54190d2",
   "metadata": {},
   "source": []
  }
 ],
 "metadata": {
  "kernelspec": {
   "display_name": "ml_subject",
   "language": "python",
   "name": "python3"
  },
  "language_info": {
   "name": "python",
   "version": "3.9.19"
  }
 },
 "nbformat": 4,
 "nbformat_minor": 5
}
