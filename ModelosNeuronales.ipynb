{
 "cells": [
  {
   "cell_type": "markdown",
   "id": "b0431b1f",
   "metadata": {},
   "source": [
    "# Aplicaciones de modelos de redes neuronales."
   ]
  },
  {
   "cell_type": "markdown",
   "id": "f3cf7a3b",
   "metadata": {},
   "source": []
  }
 ],
 "metadata": {
  "kernelspec": {
   "display_name": "ml_subject",
   "language": "python",
   "name": "python3"
  },
  "language_info": {
   "name": "python",
   "version": "3.9.19"
  }
 },
 "nbformat": 4,
 "nbformat_minor": 5
}
